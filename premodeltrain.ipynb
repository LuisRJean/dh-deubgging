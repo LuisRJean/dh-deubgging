{
 "cells": [
  {
   "cell_type": "code",
   "execution_count": null,
   "metadata": {},
   "outputs": [
    {
     "ename": "",
     "evalue": "",
     "output_type": "error",
     "traceback": [
      "\u001b[1;31mRunning cells with 'Python 3.9.13 64-bit' requires ipykernel package.\n",
      "\u001b[1;31mRun the following command to install 'ipykernel' into the Python environment. \n",
      "\u001b[1;31mCommand: '/usr/local/bin/python3 -m pip install ipykernel -U --user --force-reinstall'"
     ]
    }
   ],
   "source": []
  },
  {
   "cell_type": "code",
   "execution_count": null,
   "metadata": {},
   "outputs": [
    {
     "ename": "",
     "evalue": "",
     "output_type": "error",
     "traceback": [
      "\u001b[1;31mRunning cells with 'Python 3.9.13 64-bit' requires ipykernel package.\n",
      "\u001b[1;31mRun the following command to install 'ipykernel' into the Python environment. \n",
      "\u001b[1;31mCommand: '/usr/local/bin/python3 -m pip install ipykernel -U --user --force-reinstall'"
     ]
    }
   ],
   "source": []
  },
  {
   "cell_type": "code",
   "execution_count": null,
   "metadata": {},
   "outputs": [
    {
     "ename": "",
     "evalue": "",
     "output_type": "error",
     "traceback": [
      "\u001b[1;31mRunning cells with 'Python 3.9.13 64-bit' requires ipykernel package.\n",
      "\u001b[1;31mRun the following command to install 'ipykernel' into the Python environment. \n",
      "\u001b[1;31mCommand: '/usr/local/bin/python3 -m pip install ipykernel -U --user --force-reinstall'"
     ]
    }
   ],
   "source": [
    "import numpy as np\n",
    "import pandas as pd\n",
    "import matplotlib.pyplot as plt\n",
    "import seaborn as sns\n",
    "import os\n",
    "import sys\n",
    "import time\n",
    "import datetime\n",
    "\n",
    "\n",
    "def get_data():\n",
    "    df = pd.read_csv('data/df.csv')\n",
    "    return df\n",
    "\n",
    "def get_data2():\n",
    "    df = pd.read_csv('data/df2.csv')\n",
    "    return df\n",
    "\n",
    "def get_data3():\n",
    "    df = pd.read_csv('data/df3.csv')\n",
    "    return df\n",
    "\n",
    "def get_data4():\n",
    "    df = pd.read_csv('data/df4.csv')\n",
    "    return df\n",
    "\n",
    "def get_data5():\n",
    "    df = pd.read_csv('data/df5.csv')\n",
    "    return df\n",
    "\n",
    "def get_data6():\n",
    "    df = pd.read_csv('data/df6.csv')\n",
    "    return df\n",
    "\n",
    "def get_data7():\n",
    "    df = pd.read_csv('data/df7.csv')\n",
    "    return df\n",
    "\n",
    "def get_data8():\n",
    "    df = pd.read_csv('data/df8.csv')\n",
    "    return df\n",
    "\n",
    "def get_data9():\n",
    "    df = pd.read_csv('data/df9.csv')\n",
    "    return df\n",
    "\n",
    "def get_data10():\n",
    "    df = pd.read_csv('data/df10.csv')\n",
    "    return df\n",
    "\n",
    "def get_data11():\n",
    "    df = pd.read_csv('data/df11.csv')\n",
    "    return df\n",
    "    \n",
    "def get_data12():   \n",
    "    df = pd.read_csv('data/df12.csv')\n",
    "    return df\n",
    "\n",
    "def get_data13():\n",
    "    df = pd.read_csv('data/df13.csv')\n",
    "    return df\n",
    "\n",
    "def get_data14():\n",
    "\n",
    "from sklearn.model_selection import train_test_split\n",
    "from sklearn.preprocessing import StandardScaler\n",
    "from sklearn.preprocessing import MinMaxScaler"
   ]
  }
 ],
 "metadata": {
  "kernelspec": {
   "display_name": "Python 3.9.13 64-bit",
   "language": "python",
   "name": "python3"
  },
  "language_info": {
   "name": "python",
   "version": "3.9.13"
  },
  "orig_nbformat": 4,
  "vscode": {
   "interpreter": {
    "hash": "aee8b7b246df8f9039afb4144a1f6fd8d2ca17a180786b69acc140d282b71a49"
   }
  }
 },
 "nbformat": 4,
 "nbformat_minor": 2
}
